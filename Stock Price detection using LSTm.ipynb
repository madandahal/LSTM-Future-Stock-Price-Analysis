{
 "cells": [
  {
   "cell_type": "code",
   "execution_count": 1,
   "metadata": {},
   "outputs": [],
   "source": [
    "##keras and Tensorflow > 2.0"
   ]
  },
  {
   "cell_type": "code",
   "execution_count": 2,
   "metadata": {},
   "outputs": [],
   "source": [
    "# Data Collection\n",
    "import pandas_datareader as pdr\n",
    "key = '7571138692c4583db77356edd3042058983394ee'"
   ]
  },
  {
   "cell_type": "code",
   "execution_count": 5,
   "metadata": {},
   "outputs": [],
   "source": [
    "df = pdr.get_data_tiingo('AAPL',api_key=key)"
   ]
  },
  {
   "cell_type": "code",
   "execution_count": 20,
   "metadata": {},
   "outputs": [],
   "source": [
    "df.to_csv('AAPL.csv')"
   ]
  },
  {
   "cell_type": "code",
   "execution_count": 21,
   "metadata": {},
   "outputs": [],
   "source": [
    "import pandas as pd"
   ]
  },
  {
   "cell_type": "code",
   "execution_count": 22,
   "metadata": {},
   "outputs": [],
   "source": [
    "df = pd.read_csv('AAPL.csv')"
   ]
  },
  {
   "cell_type": "code",
   "execution_count": 23,
   "metadata": {},
   "outputs": [
    {
     "data": {
      "text/html": [
       "<div>\n",
       "<style scoped>\n",
       "    .dataframe tbody tr th:only-of-type {\n",
       "        vertical-align: middle;\n",
       "    }\n",
       "\n",
       "    .dataframe tbody tr th {\n",
       "        vertical-align: top;\n",
       "    }\n",
       "\n",
       "    .dataframe thead th {\n",
       "        text-align: right;\n",
       "    }\n",
       "</style>\n",
       "<table border=\"1\" class=\"dataframe\">\n",
       "  <thead>\n",
       "    <tr style=\"text-align: right;\">\n",
       "      <th></th>\n",
       "      <th>symbol</th>\n",
       "      <th>date</th>\n",
       "      <th>close</th>\n",
       "      <th>high</th>\n",
       "      <th>low</th>\n",
       "      <th>open</th>\n",
       "      <th>volume</th>\n",
       "      <th>adjClose</th>\n",
       "      <th>adjHigh</th>\n",
       "      <th>adjLow</th>\n",
       "      <th>adjOpen</th>\n",
       "      <th>adjVolume</th>\n",
       "      <th>divCash</th>\n",
       "      <th>splitFactor</th>\n",
       "    </tr>\n",
       "  </thead>\n",
       "  <tbody>\n",
       "    <tr>\n",
       "      <th>0</th>\n",
       "      <td>AAPL</td>\n",
       "      <td>2015-05-27 00:00:00+00:00</td>\n",
       "      <td>132.045</td>\n",
       "      <td>132.260</td>\n",
       "      <td>130.05</td>\n",
       "      <td>130.34</td>\n",
       "      <td>45833246</td>\n",
       "      <td>121.682558</td>\n",
       "      <td>121.880685</td>\n",
       "      <td>119.844118</td>\n",
       "      <td>120.111360</td>\n",
       "      <td>45833246</td>\n",
       "      <td>0.0</td>\n",
       "      <td>1.0</td>\n",
       "    </tr>\n",
       "    <tr>\n",
       "      <th>1</th>\n",
       "      <td>AAPL</td>\n",
       "      <td>2015-05-28 00:00:00+00:00</td>\n",
       "      <td>131.780</td>\n",
       "      <td>131.950</td>\n",
       "      <td>131.10</td>\n",
       "      <td>131.86</td>\n",
       "      <td>30733309</td>\n",
       "      <td>121.438354</td>\n",
       "      <td>121.595013</td>\n",
       "      <td>120.811718</td>\n",
       "      <td>121.512076</td>\n",
       "      <td>30733309</td>\n",
       "      <td>0.0</td>\n",
       "      <td>1.0</td>\n",
       "    </tr>\n",
       "    <tr>\n",
       "      <th>2</th>\n",
       "      <td>AAPL</td>\n",
       "      <td>2015-05-29 00:00:00+00:00</td>\n",
       "      <td>130.280</td>\n",
       "      <td>131.450</td>\n",
       "      <td>129.90</td>\n",
       "      <td>131.23</td>\n",
       "      <td>50884452</td>\n",
       "      <td>120.056069</td>\n",
       "      <td>121.134251</td>\n",
       "      <td>119.705890</td>\n",
       "      <td>120.931516</td>\n",
       "      <td>50884452</td>\n",
       "      <td>0.0</td>\n",
       "      <td>1.0</td>\n",
       "    </tr>\n",
       "    <tr>\n",
       "      <th>3</th>\n",
       "      <td>AAPL</td>\n",
       "      <td>2015-06-01 00:00:00+00:00</td>\n",
       "      <td>130.535</td>\n",
       "      <td>131.390</td>\n",
       "      <td>130.05</td>\n",
       "      <td>131.20</td>\n",
       "      <td>32112797</td>\n",
       "      <td>120.291057</td>\n",
       "      <td>121.078960</td>\n",
       "      <td>119.844118</td>\n",
       "      <td>120.903870</td>\n",
       "      <td>32112797</td>\n",
       "      <td>0.0</td>\n",
       "      <td>1.0</td>\n",
       "    </tr>\n",
       "    <tr>\n",
       "      <th>4</th>\n",
       "      <td>AAPL</td>\n",
       "      <td>2015-06-02 00:00:00+00:00</td>\n",
       "      <td>129.960</td>\n",
       "      <td>130.655</td>\n",
       "      <td>129.32</td>\n",
       "      <td>129.86</td>\n",
       "      <td>33667627</td>\n",
       "      <td>119.761181</td>\n",
       "      <td>120.401640</td>\n",
       "      <td>119.171406</td>\n",
       "      <td>119.669029</td>\n",
       "      <td>33667627</td>\n",
       "      <td>0.0</td>\n",
       "      <td>1.0</td>\n",
       "    </tr>\n",
       "  </tbody>\n",
       "</table>\n",
       "</div>"
      ],
      "text/plain": [
       "  symbol                       date    close     high     low    open  \\\n",
       "0   AAPL  2015-05-27 00:00:00+00:00  132.045  132.260  130.05  130.34   \n",
       "1   AAPL  2015-05-28 00:00:00+00:00  131.780  131.950  131.10  131.86   \n",
       "2   AAPL  2015-05-29 00:00:00+00:00  130.280  131.450  129.90  131.23   \n",
       "3   AAPL  2015-06-01 00:00:00+00:00  130.535  131.390  130.05  131.20   \n",
       "4   AAPL  2015-06-02 00:00:00+00:00  129.960  130.655  129.32  129.86   \n",
       "\n",
       "     volume    adjClose     adjHigh      adjLow     adjOpen  adjVolume  \\\n",
       "0  45833246  121.682558  121.880685  119.844118  120.111360   45833246   \n",
       "1  30733309  121.438354  121.595013  120.811718  121.512076   30733309   \n",
       "2  50884452  120.056069  121.134251  119.705890  120.931516   50884452   \n",
       "3  32112797  120.291057  121.078960  119.844118  120.903870   32112797   \n",
       "4  33667627  119.761181  120.401640  119.171406  119.669029   33667627   \n",
       "\n",
       "   divCash  splitFactor  \n",
       "0      0.0          1.0  \n",
       "1      0.0          1.0  \n",
       "2      0.0          1.0  \n",
       "3      0.0          1.0  \n",
       "4      0.0          1.0  "
      ]
     },
     "execution_count": 23,
     "metadata": {},
     "output_type": "execute_result"
    }
   ],
   "source": [
    "df.head()"
   ]
  },
  {
   "cell_type": "code",
   "execution_count": 25,
   "metadata": {},
   "outputs": [
    {
     "data": {
      "text/html": [
       "<div>\n",
       "<style scoped>\n",
       "    .dataframe tbody tr th:only-of-type {\n",
       "        vertical-align: middle;\n",
       "    }\n",
       "\n",
       "    .dataframe tbody tr th {\n",
       "        vertical-align: top;\n",
       "    }\n",
       "\n",
       "    .dataframe thead th {\n",
       "        text-align: right;\n",
       "    }\n",
       "</style>\n",
       "<table border=\"1\" class=\"dataframe\">\n",
       "  <thead>\n",
       "    <tr style=\"text-align: right;\">\n",
       "      <th></th>\n",
       "      <th>symbol</th>\n",
       "      <th>date</th>\n",
       "      <th>close</th>\n",
       "      <th>high</th>\n",
       "      <th>low</th>\n",
       "      <th>open</th>\n",
       "      <th>volume</th>\n",
       "      <th>adjClose</th>\n",
       "      <th>adjHigh</th>\n",
       "      <th>adjLow</th>\n",
       "      <th>adjOpen</th>\n",
       "      <th>adjVolume</th>\n",
       "      <th>divCash</th>\n",
       "      <th>splitFactor</th>\n",
       "    </tr>\n",
       "  </thead>\n",
       "  <tbody>\n",
       "    <tr>\n",
       "      <th>1253</th>\n",
       "      <td>AAPL</td>\n",
       "      <td>2020-05-18 00:00:00+00:00</td>\n",
       "      <td>314.96</td>\n",
       "      <td>316.50</td>\n",
       "      <td>310.3241</td>\n",
       "      <td>313.17</td>\n",
       "      <td>33843125</td>\n",
       "      <td>314.96</td>\n",
       "      <td>316.50</td>\n",
       "      <td>310.3241</td>\n",
       "      <td>313.17</td>\n",
       "      <td>33843125</td>\n",
       "      <td>0.0</td>\n",
       "      <td>1.0</td>\n",
       "    </tr>\n",
       "    <tr>\n",
       "      <th>1254</th>\n",
       "      <td>AAPL</td>\n",
       "      <td>2020-05-19 00:00:00+00:00</td>\n",
       "      <td>313.14</td>\n",
       "      <td>318.52</td>\n",
       "      <td>313.0100</td>\n",
       "      <td>315.03</td>\n",
       "      <td>25432385</td>\n",
       "      <td>313.14</td>\n",
       "      <td>318.52</td>\n",
       "      <td>313.0100</td>\n",
       "      <td>315.03</td>\n",
       "      <td>25432385</td>\n",
       "      <td>0.0</td>\n",
       "      <td>1.0</td>\n",
       "    </tr>\n",
       "    <tr>\n",
       "      <th>1255</th>\n",
       "      <td>AAPL</td>\n",
       "      <td>2020-05-20 00:00:00+00:00</td>\n",
       "      <td>319.23</td>\n",
       "      <td>319.52</td>\n",
       "      <td>316.2000</td>\n",
       "      <td>316.68</td>\n",
       "      <td>27876215</td>\n",
       "      <td>319.23</td>\n",
       "      <td>319.52</td>\n",
       "      <td>316.2000</td>\n",
       "      <td>316.68</td>\n",
       "      <td>27876215</td>\n",
       "      <td>0.0</td>\n",
       "      <td>1.0</td>\n",
       "    </tr>\n",
       "    <tr>\n",
       "      <th>1256</th>\n",
       "      <td>AAPL</td>\n",
       "      <td>2020-05-21 00:00:00+00:00</td>\n",
       "      <td>316.85</td>\n",
       "      <td>320.89</td>\n",
       "      <td>315.8700</td>\n",
       "      <td>318.66</td>\n",
       "      <td>25672211</td>\n",
       "      <td>316.85</td>\n",
       "      <td>320.89</td>\n",
       "      <td>315.8700</td>\n",
       "      <td>318.66</td>\n",
       "      <td>25672211</td>\n",
       "      <td>0.0</td>\n",
       "      <td>1.0</td>\n",
       "    </tr>\n",
       "    <tr>\n",
       "      <th>1257</th>\n",
       "      <td>AAPL</td>\n",
       "      <td>2020-05-22 00:00:00+00:00</td>\n",
       "      <td>318.89</td>\n",
       "      <td>319.23</td>\n",
       "      <td>315.3500</td>\n",
       "      <td>315.77</td>\n",
       "      <td>20450754</td>\n",
       "      <td>318.89</td>\n",
       "      <td>319.23</td>\n",
       "      <td>315.3500</td>\n",
       "      <td>315.77</td>\n",
       "      <td>20450754</td>\n",
       "      <td>0.0</td>\n",
       "      <td>1.0</td>\n",
       "    </tr>\n",
       "  </tbody>\n",
       "</table>\n",
       "</div>"
      ],
      "text/plain": [
       "     symbol                       date   close    high       low    open  \\\n",
       "1253   AAPL  2020-05-18 00:00:00+00:00  314.96  316.50  310.3241  313.17   \n",
       "1254   AAPL  2020-05-19 00:00:00+00:00  313.14  318.52  313.0100  315.03   \n",
       "1255   AAPL  2020-05-20 00:00:00+00:00  319.23  319.52  316.2000  316.68   \n",
       "1256   AAPL  2020-05-21 00:00:00+00:00  316.85  320.89  315.8700  318.66   \n",
       "1257   AAPL  2020-05-22 00:00:00+00:00  318.89  319.23  315.3500  315.77   \n",
       "\n",
       "        volume  adjClose  adjHigh    adjLow  adjOpen  adjVolume  divCash  \\\n",
       "1253  33843125    314.96   316.50  310.3241   313.17   33843125      0.0   \n",
       "1254  25432385    313.14   318.52  313.0100   315.03   25432385      0.0   \n",
       "1255  27876215    319.23   319.52  316.2000   316.68   27876215      0.0   \n",
       "1256  25672211    316.85   320.89  315.8700   318.66   25672211      0.0   \n",
       "1257  20450754    318.89   319.23  315.3500   315.77   20450754      0.0   \n",
       "\n",
       "      splitFactor  \n",
       "1253          1.0  \n",
       "1254          1.0  \n",
       "1255          1.0  \n",
       "1256          1.0  \n",
       "1257          1.0  "
      ]
     },
     "execution_count": 25,
     "metadata": {},
     "output_type": "execute_result"
    }
   ],
   "source": [
    "df.tail()"
   ]
  },
  {
   "cell_type": "code",
   "execution_count": 26,
   "metadata": {},
   "outputs": [
    {
     "name": "stdout",
     "output_type": "stream",
     "text": [
      "<class 'pandas.core.frame.DataFrame'>\n",
      "RangeIndex: 1258 entries, 0 to 1257\n",
      "Data columns (total 14 columns):\n",
      " #   Column       Non-Null Count  Dtype  \n",
      "---  ------       --------------  -----  \n",
      " 0   symbol       1258 non-null   object \n",
      " 1   date         1258 non-null   object \n",
      " 2   close        1258 non-null   float64\n",
      " 3   high         1258 non-null   float64\n",
      " 4   low          1258 non-null   float64\n",
      " 5   open         1258 non-null   float64\n",
      " 6   volume       1258 non-null   int64  \n",
      " 7   adjClose     1258 non-null   float64\n",
      " 8   adjHigh      1258 non-null   float64\n",
      " 9   adjLow       1258 non-null   float64\n",
      " 10  adjOpen      1258 non-null   float64\n",
      " 11  adjVolume    1258 non-null   int64  \n",
      " 12  divCash      1258 non-null   float64\n",
      " 13  splitFactor  1258 non-null   float64\n",
      "dtypes: float64(10), int64(2), object(2)\n",
      "memory usage: 137.7+ KB\n"
     ]
    }
   ],
   "source": [
    "df.info()"
   ]
  },
  {
   "cell_type": "code",
   "execution_count": 27,
   "metadata": {},
   "outputs": [],
   "source": [
    "# we are taking the close colume and make the future prediction"
   ]
  },
  {
   "cell_type": "code",
   "execution_count": 28,
   "metadata": {},
   "outputs": [],
   "source": [
    "df1 = df.reset_index()['close']"
   ]
  },
  {
   "cell_type": "code",
   "execution_count": 30,
   "metadata": {},
   "outputs": [
    {
     "data": {
      "text/plain": [
       "(1258,)"
      ]
     },
     "execution_count": 30,
     "metadata": {},
     "output_type": "execute_result"
    }
   ],
   "source": [
    "df1.shape"
   ]
  },
  {
   "cell_type": "code",
   "execution_count": 31,
   "metadata": {},
   "outputs": [
    {
     "data": {
      "text/plain": [
       "0    132.045\n",
       "1    131.780\n",
       "2    130.280\n",
       "3    130.535\n",
       "4    129.960\n",
       "Name: close, dtype: float64"
      ]
     },
     "execution_count": 31,
     "metadata": {},
     "output_type": "execute_result"
    }
   ],
   "source": [
    "df1.head()"
   ]
  },
  {
   "cell_type": "code",
   "execution_count": 33,
   "metadata": {},
   "outputs": [
    {
     "data": {
      "text/plain": [
       "[<matplotlib.lines.Line2D at 0x13551f5bb48>]"
      ]
     },
     "execution_count": 33,
     "metadata": {},
     "output_type": "execute_result"
    },
    {
     "data": {
      "image/png": "[encoded data removed]",
      "text/plain": [
       "<Figure size 432x288 with 1 Axes>"
      ]
     },
     "metadata": {
      "needs_background": "light"
     },
     "output_type": "display_data"
    }
   ],
   "source": [
    "import matplotlib.pyplot as plt\n",
    "plt.plot(df1)"
   ]
  },
  {
   "cell_type": "code",
   "execution_count": 41,
   "metadata": {},
   "outputs": [],
   "source": [
    "# LSTM are sensitive to the scale of the data. We have to use minmax scaler\n",
    "import numpy as np\n",
    "from sklearn.preprocessing import MinMaxScaler\n",
    "scaler = MinMaxScaler(feature_range=(0,1))\n",
    "df1 = scaler.fit_transform(np.array(df1).reshape(-1,1))"
   ]
  },
  {
   "cell_type": "code",
   "execution_count": 42,
   "metadata": {},
   "outputs": [
    {
     "data": {
      "text/plain": [
       "(1258, 1)"
      ]
     },
     "execution_count": 42,
     "metadata": {},
     "output_type": "execute_result"
    }
   ],
   "source": [
    "df1.shape"
   ]
  },
  {
   "cell_type": "code",
   "execution_count": 43,
   "metadata": {},
   "outputs": [
    {
     "data": {
      "text/plain": [
       "array([[0.17607447],\n",
       "       [0.17495567],\n",
       "       [0.16862282],\n",
       "       ...,\n",
       "       [0.96635143],\n",
       "       [0.9563033 ],\n",
       "       [0.96491598]])"
      ]
     },
     "execution_count": 43,
     "metadata": {},
     "output_type": "execute_result"
    }
   ],
   "source": [
    "df1"
   ]
  },
  {
   "cell_type": "code",
   "execution_count": 45,
   "metadata": {},
   "outputs": [],
   "source": [
    "# Time series we must divide data first and then do the preprocessing\n",
    "\n",
    "training_size = int(len(df1)*0.65)\n",
    "test_size = len(df1)-training_size\n",
    "\n",
    "train_data,test_data = df1[0:training_size,:],df1[training_size:len(df1), :1]"
   ]
  },
  {
   "cell_type": "code",
   "execution_count": 46,
   "metadata": {},
   "outputs": [
    {
     "data": {
      "text/plain": [
       "(817, 441)"
      ]
     },
     "execution_count": 46,
     "metadata": {},
     "output_type": "execute_result"
    }
   ],
   "source": [
    "training_size,test_size"
   ]
  },
  {
   "cell_type": "code",
   "execution_count": 49,
   "metadata": {},
   "outputs": [],
   "source": [
    "# determine the timesteps, its means how many previous days are considered for the prediction of the data\n",
    "# suppose training data: 120, 130, 125, 140, 134, 150\n",
    "# Time step = 3\n",
    "# if Time step is three we basically have three feaures f1, f2, f3\n",
    "# f1=120, f2=130, f3=125 and o/p=140\n",
    "# Here in data preprocessing we are converting data into dependent and independent features based in the Time step\n",
    "# To calculate the o/p i have to consider the previous three days input\n",
    "\n",
    "    #        x_train      y_train\n",
    "    #   f1    f2   f3      o/p\n",
    "    #  120   130  125      140\n",
    "    #  130   125  140      134\n",
    "    #  125   140  134      150\n",
    "    \n",
    "# considering the previous i will try to train the LSTM model\n",
    "\n",
    "# for test data set also we have to do the same\n",
    "# suppose the test data: 160, 190, 154, 160, 170\n",
    "    #       x_test        y_test\n",
    "    #   f1    f2    f3     o/p\n",
    "    #  160   190    154    160\n",
    "    #  190   154    160    170"
   ]
  },
  {
   "cell_type": "code",
   "execution_count": 50,
   "metadata": {},
   "outputs": [],
   "source": [
    "import numpy\n",
    "# convert an array of the values in the dataset matrix\n",
    "\n",
    "def create_dataset(dataset,time_step=1):\n",
    "    dataX, dataY = [],[]\n",
    "    for i in range(len(dataset)-time_step-1):\n",
    "        a = dataset[i:(i+time_step),0]\n",
    "        dataX.append(a)\n",
    "        dataY.append(dataset[i+time_step,0])\n",
    "    return numpy.array(dataX), numpy.array(dataY)\n",
    "    "
   ]
  },
  {
   "cell_type": "code",
   "execution_count": 51,
   "metadata": {},
   "outputs": [],
   "source": [
    "# reshape into X = t, t+1, t+2, t+3 and Y = t+4\n",
    "\n",
    "time_step = 100\n",
    "x_train,y_train= create_dataset(train_data,time_step)\n",
    "x_test, y_test = create_dataset(test_data,time_step)"
   ]
  },
  {
   "cell_type": "code",
   "execution_count": 52,
   "metadata": {},
   "outputs": [
    {
     "name": "stdout",
     "output_type": "stream",
     "text": [
      "[[0.17607447 0.17495567 0.16862282 ... 0.09055982 0.08388922 0.09085536]\n",
      " [0.17495567 0.16862282 0.1696994  ... 0.08388922 0.09085536 0.0873934 ]\n",
      " [0.16862282 0.1696994  0.16727181 ... 0.09085536 0.0873934  0.09030651]\n",
      " ...\n",
      " [0.34801148 0.32930845 0.32145571 ... 0.50042219 0.50413747 0.5062062 ]\n",
      " [0.32930845 0.32145571 0.32694419 ... 0.50413747 0.5062062  0.51920966]\n",
      " [0.32145571 0.32694419 0.32230009 ... 0.5062062  0.51920966 0.53719497]]\n"
     ]
    }
   ],
   "source": [
    "print(x_train)"
   ]
  },
  {
   "cell_type": "code",
   "execution_count": 55,
   "metadata": {},
   "outputs": [
    {
     "name": "stdout",
     "output_type": "stream",
     "text": [
      "(340, 100)\n",
      "(340,)\n"
     ]
    },
    {
     "data": {
      "text/plain": [
       "(None, None)"
      ]
     },
     "execution_count": 55,
     "metadata": {},
     "output_type": "execute_result"
    }
   ],
   "source": [
    "print(x_test.shape),print(y_test.shape)"
   ]
  },
  {
   "cell_type": "code",
   "execution_count": 56,
   "metadata": {},
   "outputs": [
    {
     "name": "stdout",
     "output_type": "stream",
     "text": [
      "(716, 100)\n",
      "(716,)\n"
     ]
    },
    {
     "data": {
      "text/plain": [
       "(None, None)"
      ]
     },
     "execution_count": 56,
     "metadata": {},
     "output_type": "execute_result"
    }
   ],
   "source": [
    "print(x_train.shape), print(y_train.shape)"
   ]
  },
  {
   "cell_type": "code",
   "execution_count": 57,
   "metadata": {},
   "outputs": [],
   "source": [
    "# reshape input to be (samples, timestamps, features) whcih is required for the LSTM, Below features is 1\n",
    "x_train  = x_train.reshape(x_train.shape[0],x_train.shape[1],1)\n",
    "x_test  = x_test.reshape(x_test.shape[0],x_test.shape[1],1)"
   ]
  },
  {
   "cell_type": "code",
   "execution_count": 59,
   "metadata": {},
   "outputs": [],
   "source": [
    "# create the required LSTM\n",
    "from tensorflow.keras.models import Sequential\n",
    "from tensorflow.keras.layers import Dense\n",
    "from tensorflow.keras.layers import LSTM"
   ]
  },
  {
   "cell_type": "code",
   "execution_count": 60,
   "metadata": {},
   "outputs": [],
   "source": [
    "model = Sequential()\n",
    "model.add(LSTM(50,return_sequences=True, input_shape=(100,1)))\n",
    "model.add(LSTM(50, return_sequences=True))\n",
    "model.add(LSTM(50))\n",
    "model.add(Dense(1))\n",
    "model.compile(loss='mean_squared_error', optimizer = 'adam')"
   ]
  },
  {
   "cell_type": "code",
   "execution_count": 61,
   "metadata": {},
   "outputs": [
    {
     "name": "stdout",
     "output_type": "stream",
     "text": [
      "Model: \"sequential\"\n",
      "_________________________________________________________________\n",
      "Layer (type)                 Output Shape              Param #   \n",
      "=================================================================\n",
      "lstm (LSTM)                  (None, 100, 50)           10400     \n",
      "_________________________________________________________________\n",
      "lstm_1 (LSTM)                (None, 100, 50)           20200     \n",
      "_________________________________________________________________\n",
      "lstm_2 (LSTM)                (None, 50)                20200     \n",
      "_________________________________________________________________\n",
      "dense (Dense)                (None, 1)                 51        \n",
      "=================================================================\n",
      "Total params: 50,851\n",
      "Trainable params: 50,851\n",
      "Non-trainable params: 0\n",
      "_________________________________________________________________\n"
     ]
    }
   ],
   "source": [
    "model.summary()"
   ]
  },
  {
   "cell_type": "code",
   "execution_count": 62,
   "metadata": {},
   "outputs": [
    {
     "name": "stdout",
     "output_type": "stream",
     "text": [
      "Train on 716 samples, validate on 340 samples\n",
      "Epoch 1/100\n",
      "716/716 [==============================] - 21s 29ms/sample - loss: 0.0178 - val_loss: 0.0543\n",
      "Epoch 2/100\n",
      "716/716 [==============================] - 7s 9ms/sample - loss: 0.0038 - val_loss: 0.0043\n",
      "Epoch 3/100\n",
      "716/716 [==============================] - 6s 8ms/sample - loss: 0.0013 - val_loss: 0.0038\n",
      "Epoch 4/100\n",
      "716/716 [==============================] - 7s 10ms/sample - loss: 7.8604e-04 - val_loss: 0.0052\n",
      "Epoch 5/100\n",
      "716/716 [==============================] - 5s 7ms/sample - loss: 6.4497e-04 - val_loss: 0.0047\n",
      "Epoch 6/100\n",
      "716/716 [==============================] - 7s 9ms/sample - loss: 6.0856e-04 - val_loss: 0.0044\n",
      "Epoch 7/100\n",
      "716/716 [==============================] - 7s 10ms/sample - loss: 6.3370e-04 - val_loss: 0.0042\n",
      "Epoch 8/100\n",
      "716/716 [==============================] - 6s 9ms/sample - loss: 6.0040e-04 - val_loss: 0.0037\n",
      "Epoch 9/100\n",
      "716/716 [==============================] - 6s 9ms/sample - loss: 5.8218e-04 - val_loss: 0.0037\n",
      "Epoch 10/100\n",
      "716/716 [==============================] - 7s 9ms/sample - loss: 5.7376e-04 - val_loss: 0.0035\n",
      "Epoch 11/100\n",
      "716/716 [==============================] - 5s 8ms/sample - loss: 5.8127e-04 - val_loss: 0.0032\n",
      "Epoch 12/100\n",
      "716/716 [==============================] - 5s 8ms/sample - loss: 6.0075e-04 - val_loss: 0.0032\n",
      "Epoch 13/100\n",
      "716/716 [==============================] - 6s 8ms/sample - loss: 6.3951e-04 - val_loss: 0.0032\n",
      "Epoch 14/100\n",
      "716/716 [==============================] - 6s 8ms/sample - loss: 5.7489e-04 - val_loss: 0.0036\n",
      "Epoch 15/100\n",
      "716/716 [==============================] - 5s 7ms/sample - loss: 5.5138e-04 - val_loss: 0.0037\n",
      "Epoch 16/100\n",
      "716/716 [==============================] - 6s 9ms/sample - loss: 5.3186e-04 - val_loss: 0.0031\n",
      "Epoch 17/100\n",
      "716/716 [==============================] - 6s 8ms/sample - loss: 5.6063e-04 - val_loss: 0.0045\n",
      "Epoch 18/100\n",
      "716/716 [==============================] - 5s 7ms/sample - loss: 5.8882e-04 - val_loss: 0.0031\n",
      "Epoch 19/100\n",
      "716/716 [==============================] - 5s 7ms/sample - loss: 5.1527e-04 - val_loss: 0.0031\n",
      "Epoch 20/100\n",
      "716/716 [==============================] - 5s 7ms/sample - loss: 5.2103e-04 - val_loss: 0.0043\n",
      "Epoch 21/100\n",
      "716/716 [==============================] - 7s 9ms/sample - loss: 5.3341e-04 - val_loss: 0.0030\n",
      "Epoch 22/100\n",
      "716/716 [==============================] - 6s 8ms/sample - loss: 5.0525e-04 - val_loss: 0.0027\n",
      "Epoch 23/100\n",
      "716/716 [==============================] - 6s 8ms/sample - loss: 4.8785e-04 - val_loss: 0.0029\n",
      "Epoch 24/100\n",
      "716/716 [==============================] - 6s 9ms/sample - loss: 4.8595e-04 - val_loss: 0.0027\n",
      "Epoch 25/100\n",
      "716/716 [==============================] - 5s 7ms/sample - loss: 5.0811e-04 - val_loss: 0.0023\n",
      "Epoch 26/100\n",
      "716/716 [==============================] - 5s 7ms/sample - loss: 4.6294e-04 - val_loss: 0.0023\n",
      "Epoch 27/100\n",
      "716/716 [==============================] - 5s 7ms/sample - loss: 4.8296e-04 - val_loss: 0.0027\n",
      "Epoch 28/100\n",
      "716/716 [==============================] - 5s 7ms/sample - loss: 4.5404e-04 - val_loss: 0.0025\n",
      "Epoch 29/100\n",
      "716/716 [==============================] - 5s 7ms/sample - loss: 4.4757e-04 - val_loss: 0.0021\n",
      "Epoch 30/100\n",
      "716/716 [==============================] - 5s 7ms/sample - loss: 4.5481e-04 - val_loss: 0.0027\n",
      "Epoch 31/100\n",
      "716/716 [==============================] - 5s 7ms/sample - loss: 4.5612e-04 - val_loss: 0.0023\n",
      "Epoch 32/100\n",
      "716/716 [==============================] - 6s 9ms/sample - loss: 4.6121e-04 - val_loss: 0.0019\n",
      "Epoch 33/100\n",
      "716/716 [==============================] - 6s 8ms/sample - loss: 4.2533e-04 - val_loss: 0.0022\n",
      "Epoch 34/100\n",
      "716/716 [==============================] - 5s 7ms/sample - loss: 4.1687e-04 - val_loss: 0.0021\n",
      "Epoch 35/100\n",
      "716/716 [==============================] - 6s 8ms/sample - loss: 4.4693e-04 - val_loss: 0.0019\n",
      "Epoch 36/100\n",
      "716/716 [==============================] - 6s 9ms/sample - loss: 4.9770e-04 - val_loss: 0.0032\n",
      "Epoch 37/100\n",
      "716/716 [==============================] - 7s 9ms/sample - loss: 4.5558e-04 - val_loss: 0.0019\n",
      "Epoch 38/100\n",
      "716/716 [==============================] - 6s 8ms/sample - loss: 4.2720e-04 - val_loss: 0.0018\n",
      "Epoch 39/100\n",
      "716/716 [==============================] - 5s 7ms/sample - loss: 3.8881e-04 - val_loss: 0.0017\n",
      "Epoch 40/100\n",
      "716/716 [==============================] - 5s 7ms/sample - loss: 4.0683e-04 - val_loss: 0.0021\n",
      "Epoch 41/100\n",
      "716/716 [==============================] - 6s 9ms/sample - loss: 3.6669e-04 - val_loss: 0.0018\n",
      "Epoch 42/100\n",
      "716/716 [==============================] - 6s 8ms/sample - loss: 3.6457e-04 - val_loss: 0.0016\n",
      "Epoch 43/100\n",
      "716/716 [==============================] - 5s 7ms/sample - loss: 3.5800e-04 - val_loss: 0.0017\n",
      "Epoch 44/100\n",
      "716/716 [==============================] - 6s 8ms/sample - loss: 4.4387e-04 - val_loss: 0.0028\n",
      "Epoch 45/100\n",
      "716/716 [==============================] - 5s 8ms/sample - loss: 3.9669e-04 - val_loss: 0.0017\n",
      "Epoch 46/100\n",
      "716/716 [==============================] - 5s 7ms/sample - loss: 3.6178e-04 - val_loss: 0.0016\n",
      "Epoch 47/100\n",
      "716/716 [==============================] - 5s 7ms/sample - loss: 3.3497e-04 - val_loss: 0.0021\n",
      "Epoch 48/100\n",
      "716/716 [==============================] - 6s 9ms/sample - loss: 3.4098e-04 - val_loss: 0.0015\n",
      "Epoch 49/100\n",
      "716/716 [==============================] - 6s 9ms/sample - loss: 3.7452e-04 - val_loss: 0.0019\n",
      "Epoch 50/100\n",
      "716/716 [==============================] - 6s 8ms/sample - loss: 3.4446e-04 - val_loss: 0.0015\n",
      "Epoch 51/100\n",
      "716/716 [==============================] - 6s 8ms/sample - loss: 3.3088e-04 - val_loss: 0.0028\n",
      "Epoch 52/100\n",
      "716/716 [==============================] - 5s 7ms/sample - loss: 3.5386e-04 - val_loss: 0.0015\n",
      "Epoch 53/100\n",
      "716/716 [==============================] - 5s 7ms/sample - loss: 3.0102e-04 - val_loss: 0.0014\n",
      "Epoch 54/100\n",
      "716/716 [==============================] - 5s 7ms/sample - loss: 3.1475e-04 - val_loss: 0.0020\n",
      "Epoch 55/100\n",
      "716/716 [==============================] - 6s 9ms/sample - loss: 3.3272e-04 - val_loss: 0.0020\n",
      "Epoch 56/100\n",
      "716/716 [==============================] - 5s 7ms/sample - loss: 3.0138e-04 - val_loss: 0.0022\n",
      "Epoch 57/100\n",
      "716/716 [==============================] - 7s 10ms/sample - loss: 3.1772e-04 - val_loss: 0.0014\n",
      "Epoch 58/100\n",
      "716/716 [==============================] - 6s 8ms/sample - loss: 2.9684e-04 - val_loss: 0.0021\n",
      "Epoch 59/100\n",
      "716/716 [==============================] - 5s 7ms/sample - loss: 3.3136e-04 - val_loss: 0.0016\n",
      "Epoch 60/100\n",
      "716/716 [==============================] - 5s 8ms/sample - loss: 4.3686e-04 - val_loss: 0.0023\n",
      "Epoch 61/100\n",
      "716/716 [==============================] - 7s 9ms/sample - loss: 3.0929e-04 - val_loss: 0.0014\n",
      "Epoch 62/100\n",
      "716/716 [==============================] - 5s 7ms/sample - loss: 3.0489e-04 - val_loss: 0.0017\n",
      "Epoch 63/100\n",
      "716/716 [==============================] - 5s 7ms/sample - loss: 2.9288e-04 - val_loss: 0.0015\n",
      "Epoch 64/100\n",
      "716/716 [==============================] - 5s 7ms/sample - loss: 2.5807e-04 - val_loss: 0.0018\n",
      "Epoch 65/100\n",
      "716/716 [==============================] - 6s 8ms/sample - loss: 2.5680e-04 - val_loss: 0.0013\n",
      "Epoch 66/100\n",
      "716/716 [==============================] - 5s 7ms/sample - loss: 2.6469e-04 - val_loss: 0.0016\n",
      "Epoch 67/100\n",
      "716/716 [==============================] - 5s 7ms/sample - loss: 2.4196e-04 - val_loss: 0.0017\n",
      "Epoch 68/100\n",
      "716/716 [==============================] - 5s 7ms/sample - loss: 2.4751e-04 - val_loss: 0.0014\n",
      "Epoch 69/100\n",
      "716/716 [==============================] - 5s 7ms/sample - loss: 2.5741e-04 - val_loss: 0.0015\n",
      "Epoch 70/100\n",
      "716/716 [==============================] - 5s 7ms/sample - loss: 2.2774e-04 - val_loss: 0.0013\n",
      "Epoch 71/100\n",
      "716/716 [==============================] - 5s 7ms/sample - loss: 2.3992e-04 - val_loss: 0.0014\n",
      "Epoch 72/100\n",
      "716/716 [==============================] - 5s 7ms/sample - loss: 2.2571e-04 - val_loss: 0.0014\n",
      "Epoch 73/100\n",
      "716/716 [==============================] - 5s 7ms/sample - loss: 2.2162e-04 - val_loss: 0.0017\n",
      "Epoch 74/100\n",
      "716/716 [==============================] - 5s 7ms/sample - loss: 2.1513e-04 - val_loss: 0.0013\n",
      "Epoch 75/100\n",
      "716/716 [==============================] - 5s 6ms/sample - loss: 2.3550e-04 - val_loss: 0.0016\n",
      "Epoch 76/100\n",
      "716/716 [==============================] - 5s 7ms/sample - loss: 2.0467e-04 - val_loss: 0.0012\n",
      "Epoch 77/100\n",
      "716/716 [==============================] - 5s 7ms/sample - loss: 2.0925e-04 - val_loss: 0.0016\n",
      "Epoch 78/100\n",
      "716/716 [==============================] - 5s 7ms/sample - loss: 2.0216e-04 - val_loss: 0.0016\n",
      "Epoch 79/100\n",
      "716/716 [==============================] - 7s 9ms/sample - loss: 2.4715e-04 - val_loss: 0.0011\n",
      "Epoch 80/100\n",
      "716/716 [==============================] - 9s 12ms/sample - loss: 2.3750e-04 - val_loss: 0.0011\n",
      "Epoch 81/100\n",
      "716/716 [==============================] - 7s 10ms/sample - loss: 2.1795e-04 - val_loss: 0.0015\n",
      "Epoch 82/100\n",
      "716/716 [==============================] - 6s 8ms/sample - loss: 1.9950e-04 - val_loss: 0.0012\n",
      "Epoch 83/100\n",
      "716/716 [==============================] - 7s 9ms/sample - loss: 2.0562e-04 - val_loss: 0.0022\n",
      "Epoch 84/100\n",
      "716/716 [==============================] - 6s 8ms/sample - loss: 2.2494e-04 - val_loss: 0.0016\n",
      "Epoch 85/100\n",
      "716/716 [==============================] - 6s 9ms/sample - loss: 2.6222e-04 - val_loss: 0.0013\n",
      "Epoch 86/100\n",
      "716/716 [==============================] - 6s 8ms/sample - loss: 2.2928e-04 - val_loss: 0.0011\n",
      "Epoch 87/100\n",
      "716/716 [==============================] - 6s 8ms/sample - loss: 1.8609e-04 - val_loss: 0.0016\n",
      "Epoch 88/100\n",
      "716/716 [==============================] - 5s 7ms/sample - loss: 1.8619e-04 - val_loss: 0.0011\n",
      "Epoch 89/100\n",
      "716/716 [==============================] - 6s 9ms/sample - loss: 1.8322e-04 - val_loss: 0.0011\n",
      "Epoch 90/100\n",
      "716/716 [==============================] - 6s 9ms/sample - loss: 1.6849e-04 - val_loss: 0.0010\n",
      "Epoch 91/100\n",
      "716/716 [==============================] - 5s 8ms/sample - loss: 1.6441e-04 - val_loss: 9.8353e-04\n",
      "Epoch 92/100\n",
      "716/716 [==============================] - 6s 8ms/sample - loss: 1.6242e-04 - val_loss: 9.6223e-04\n",
      "Epoch 93/100\n",
      "716/716 [==============================] - 6s 9ms/sample - loss: 1.6208e-04 - val_loss: 9.6534e-04\n",
      "Epoch 94/100\n",
      "716/716 [==============================] - 5s 7ms/sample - loss: 1.6716e-04 - val_loss: 0.0010\n",
      "Epoch 95/100\n",
      "716/716 [==============================] - 6s 8ms/sample - loss: 1.6342e-04 - val_loss: 9.8824e-04\n",
      "Epoch 96/100\n",
      "716/716 [==============================] - 6s 8ms/sample - loss: 1.5521e-04 - val_loss: 9.1816e-04\n",
      "Epoch 97/100\n",
      "716/716 [==============================] - 6s 9ms/sample - loss: 1.5548e-04 - val_loss: 9.0835e-04\n",
      "Epoch 98/100\n",
      "716/716 [==============================] - 6s 9ms/sample - loss: 1.7478e-04 - val_loss: 9.2661e-04\n",
      "Epoch 99/100\n",
      "716/716 [==============================] - 6s 8ms/sample - loss: 1.5481e-04 - val_loss: 9.3906e-04\n",
      "Epoch 100/100\n",
      "716/716 [==============================] - 7s 10ms/sample - loss: 1.4630e-04 - val_loss: 9.3129e-04\n"
     ]
    },
    {
     "data": {
      "text/plain": [
       "<tensorflow.python.keras.callbacks.History at 0x1355f146188>"
      ]
     },
     "execution_count": 62,
     "metadata": {},
     "output_type": "execute_result"
    }
   ],
   "source": [
    "model.fit(x_train,y_train,validation_data=(x_test,y_test),epochs=100,batch_size=64,verbose=1)"
   ]
  },
  {
   "cell_type": "code",
   "execution_count": 64,
   "metadata": {},
   "outputs": [],
   "source": [
    "import tensorflow as tf"
   ]
  },
  {
   "cell_type": "code",
   "execution_count": 65,
   "metadata": {},
   "outputs": [
    {
     "data": {
      "text/plain": [
       "'2.0.0'"
      ]
     },
     "execution_count": 65,
     "metadata": {},
     "output_type": "execute_result"
    }
   ],
   "source": [
    "tf.__version__"
   ]
  },
  {
   "cell_type": "code",
   "execution_count": 66,
   "metadata": {},
   "outputs": [],
   "source": [
    "# lets do the prediction\n",
    "train_predict = model.predict(x_train)\n",
    "test_predict = model.predict(x_test)"
   ]
  },
  {
   "cell_type": "code",
   "execution_count": 67,
   "metadata": {},
   "outputs": [],
   "source": [
    "train_predict = scaler.inverse_transform(train_predict)\n",
    "test_predict = scaler.inverse_transform(test_predict)"
   ]
  },
  {
   "cell_type": "code",
   "execution_count": 68,
   "metadata": {},
   "outputs": [
    {
     "data": {
      "text/plain": [
       "0.012731878686592401"
      ]
     },
     "execution_count": 68,
     "metadata": {},
     "output_type": "execute_result"
    }
   ],
   "source": [
    "# calcualte RMSE performance matrix\n",
    "import math\n",
    "from sklearn.metrics import mean_squared_error\n",
    "math.sqrt(mean_squared_error(y_train,train_predict))"
   ]
  },
  {
   "cell_type": "code",
   "execution_count": 69,
   "metadata": {},
   "outputs": [
    {
     "data": {
      "text/plain": [
       "0.030516987882234482"
      ]
     },
     "execution_count": 69,
     "metadata": {},
     "output_type": "execute_result"
    }
   ],
   "source": [
    "# Test Data RMSE\n",
    "math.sqrt(mean_squared_error(y_test,test_predict))"
   ]
  },
  {
   "cell_type": "code",
   "execution_count": 70,
   "metadata": {},
   "outputs": [],
   "source": [
    "# plotting \n",
    "# shift train prediction for plotting\n",
    "look_back = 100\n",
    "trainPredictPlot = numpy.empty_like(df1)\n",
    "trainPredictPlot[:,:] = np.nan\n",
    "trainPredictPlot[look_back:len(train_predict)+look_back, :] = train_predict"
   ]
  },
  {
   "cell_type": "code",
   "execution_count": 71,
   "metadata": {},
   "outputs": [],
   "source": [
    "#shift test prediction for plotting\n",
    "testPredictPlot = numpy.empty_like(df1)\n",
    "testPredictPlot[:,:] = np.nan\n",
    "testPredictPlot[len(train_predict)+(look_back*2)+1:len(df1)-1, :] = test_predict"
   ]
  },
  {
   "cell_type": "code",
   "execution_count": 72,
   "metadata": {},
   "outputs": [
    {
     "data": {
      "image/png": "[encoded data removed]",
      "text/plain": [
       "<Figure size 432x288 with 1 Axes>"
      ]
     },
     "metadata": {
      "needs_background": "light"
     },
     "output_type": "display_data"
    }
   ],
   "source": [
    "#plot baseline adn prediction\n",
    "plt.plot(scaler.inverse_transform(df1))\n",
    "plt.plot(trainPredictPlot)\n",
    "plt.plot(testPredictPlot)\n",
    "plt.show()"
   ]
  },
  {
   "cell_type": "code",
   "execution_count": 73,
   "metadata": {},
   "outputs": [
    {
     "data": {
      "text/plain": [
       "441"
      ]
     },
     "execution_count": 73,
     "metadata": {},
     "output_type": "execute_result"
    }
   ],
   "source": [
    "len(test_data)"
   ]
  },
  {
   "cell_type": "code",
   "execution_count": null,
   "metadata": {},
   "outputs": [],
   "source": []
  }
 ],
 "metadata": {
  "kernelspec": {
   "display_name": "Python 3.6 (tensorflow)",
   "language": "python",
   "name": "tensorflow"
  },
  "language_info": {
   "codemirror_mode": {
    "name": "ipython",
    "version": 3
   },
   "file_extension": ".py",
   "mimetype": "text/x-python",
   "name": "python",
   "nbconvert_exporter": "python",
   "pygments_lexer": "ipython3",
   "version": "3.6.10"
  }
 },
 "nbformat": 4,
 "nbformat_minor": 4
}
